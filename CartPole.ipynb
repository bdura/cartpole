{
 "cells": [
  {
   "cell_type": "code",
   "execution_count": 7,
   "metadata": {
    "ExecuteTime": {
     "end_time": "2017-12-11T00:22:06.405450Z",
     "start_time": "2017-12-11T00:22:06.352821Z"
    },
    "init_cell": true
   },
   "outputs": [],
   "source": [
    "%reload_ext autoreload\n",
    "%autoreload 2"
   ]
  },
  {
   "cell_type": "code",
   "execution_count": 8,
   "metadata": {
    "ExecuteTime": {
     "end_time": "2017-12-11T00:22:07.034465Z",
     "start_time": "2017-12-11T00:22:06.985134Z"
    },
    "init_cell": true
   },
   "outputs": [],
   "source": [
    "import numpy as np\n",
    "import gym\n",
    "\n",
    "import time\n",
    "\n",
    "np.set_printoptions(precision=0)"
   ]
  },
  {
   "cell_type": "code",
   "execution_count": 9,
   "metadata": {
    "ExecuteTime": {
     "end_time": "2017-12-11T00:22:08.125756Z",
     "start_time": "2017-12-11T00:22:08.067540Z"
    },
    "init_cell": true
   },
   "outputs": [],
   "source": [
    "env = gym.make('CartPole-v0')"
   ]
  },
  {
   "cell_type": "markdown",
   "metadata": {
    "slideshow": {
     "slide_type": "slide"
    }
   },
   "source": [
    "# First, a random agent"
   ]
  },
  {
   "cell_type": "code",
   "execution_count": 57,
   "metadata": {
    "ExecuteTime": {
     "end_time": "2017-12-10T20:31:45.461856Z",
     "start_time": "2017-12-10T20:31:45.414059Z"
    },
    "slideshow": {
     "slide_type": "subslide"
    }
   },
   "outputs": [
    {
     "name": "stdout",
     "output_type": "stream",
     "text": [
      "Episode finished after 13 timesteps\n",
      "Episode finished after 25 timesteps\n",
      "Episode finished after 9 timesteps\n",
      "Episode finished after 15 timesteps\n",
      "Episode finished after 62 timesteps\n",
      "Episode finished after 15 timesteps\n",
      "Episode finished after 14 timesteps\n",
      "Episode finished after 34 timesteps\n",
      "Episode finished after 68 timesteps\n",
      "Episode finished after 15 timesteps\n"
     ]
    }
   ],
   "source": [
    "for i_episode in range(10):\n",
    "    observation = env.reset()\n",
    "    \n",
    "    for t in range(1000):\n",
    "#         env.render()\n",
    "        #print(observation)\n",
    "        action = env.action_space.sample()\n",
    "        observation, reward, done, info = env.step(action)\n",
    "#         print((action, reward))\n",
    "        if done:\n",
    "            print(\"Episode finished after {} timesteps\".format(t+1))\n",
    "            break"
   ]
  },
  {
   "cell_type": "markdown",
   "metadata": {
    "slideshow": {
     "slide_type": "subslide"
    }
   },
   "source": [
    "# Genetic Algorithm"
   ]
  },
  {
   "cell_type": "code",
   "execution_count": 58,
   "metadata": {
    "ExecuteTime": {
     "end_time": "2017-12-10T20:31:47.676740Z",
     "start_time": "2017-12-10T20:31:47.639033Z"
    }
   },
   "outputs": [],
   "source": [
    "import genetic"
   ]
  },
  {
   "cell_type": "markdown",
   "metadata": {},
   "source": [
    "## A neural-network agent"
   ]
  },
  {
   "cell_type": "code",
   "execution_count": 59,
   "metadata": {
    "ExecuteTime": {
     "end_time": "2017-12-10T20:31:48.998405Z",
     "start_time": "2017-12-10T20:31:48.962631Z"
    }
   },
   "outputs": [],
   "source": [
    "agent = genetic.Agent(.5, verbose=False)"
   ]
  },
  {
   "cell_type": "code",
   "execution_count": 60,
   "metadata": {
    "ExecuteTime": {
     "end_time": "2017-12-10T20:31:49.533609Z",
     "start_time": "2017-12-10T20:31:49.468253Z"
    }
   },
   "outputs": [
    {
     "name": "stdout",
     "output_type": "stream",
     "text": [
      "Episode finished after 24 timesteps\n",
      "Episode finished after 23 timesteps\n",
      "Episode finished after 17 timesteps\n",
      "Episode finished after 21 timesteps\n",
      "Episode finished after 19 timesteps\n",
      "Episode finished after 20 timesteps\n",
      "Episode finished after 29 timesteps\n",
      "Episode finished after 18 timesteps\n",
      "Episode finished after 43 timesteps\n",
      "Episode finished after 29 timesteps\n"
     ]
    }
   ],
   "source": [
    "for i_episode in range(10):\n",
    "    observation = env.reset()\n",
    "    \n",
    "    for t in range(1000):\n",
    "#         env.render()\n",
    "        #print(observation)\n",
    "        action = agent.action(observation)\n",
    "        observation, reward, done, info = env.step(action)\n",
    "#         print((action, reward))\n",
    "        if done:\n",
    "            print(\"Episode finished after {} timesteps\".format(t+1))\n",
    "            break"
   ]
  },
  {
   "cell_type": "markdown",
   "metadata": {},
   "source": [
    "## Training the genetic algorithm"
   ]
  },
  {
   "cell_type": "code",
   "execution_count": 61,
   "metadata": {
    "ExecuteTime": {
     "end_time": "2017-12-10T20:31:50.651153Z",
     "start_time": "2017-12-10T20:31:50.617660Z"
    }
   },
   "outputs": [],
   "source": [
    "generation = genetic.Generation(n=10, env=env)"
   ]
  },
  {
   "cell_type": "code",
   "execution_count": 62,
   "metadata": {
    "ExecuteTime": {
     "end_time": "2017-12-10T20:32:05.338673Z",
     "start_time": "2017-12-10T20:31:51.526497Z"
    }
   },
   "outputs": [
    {
     "name": "stdout",
     "output_type": "stream",
     "text": [
      "246, minimum: 200.0          \r"
     ]
    }
   ],
   "source": [
    "count = 0\n",
    "\n",
    "for i in range(1000):\n",
    "    \n",
    "    res = generation.simulation_step(200)\n",
    "    generation.select(std=.1, proportion=.3)\n",
    "    generation.reset()\n",
    "    \n",
    "    print(str(i + 1) + ', minimum: ' + str(res.min()) + ' '*10, end='\\r')\n",
    "    # print(str(i + 1) + ': ' + str(np.sort(res)[-1:0:-1]) + ' '*20, end='\\r')\n",
    "        \n",
    "    if res.min() > 195:\n",
    "        count += 1\n",
    "    else:\n",
    "        count = 0\n",
    "    \n",
    "    if count == 5:\n",
    "        break"
   ]
  },
  {
   "cell_type": "markdown",
   "metadata": {},
   "source": [
    "Training seems overly long... Let's try to change the _mutation rate_ as the models become more accurate:"
   ]
  },
  {
   "cell_type": "code",
   "execution_count": 92,
   "metadata": {
    "ExecuteTime": {
     "end_time": "2017-12-10T21:04:39.788945Z",
     "start_time": "2017-12-10T21:04:39.757216Z"
    }
   },
   "outputs": [],
   "source": [
    "generation = genetic.Generation(n=10, env=env)"
   ]
  },
  {
   "cell_type": "code",
   "execution_count": 93,
   "metadata": {
    "ExecuteTime": {
     "end_time": "2017-12-10T21:04:42.555494Z",
     "start_time": "2017-12-10T21:04:40.016796Z"
    }
   },
   "outputs": [
    {
     "name": "stdout",
     "output_type": "stream",
     "text": [
      "63, minimum: 200.0          \r"
     ]
    }
   ],
   "source": [
    "std = .8\n",
    "threshold = 70\n",
    "count = 0\n",
    "\n",
    "for i in range(300):\n",
    "    \n",
    "    res = generation.simulation_step(200)\n",
    "    generation.select(std=std, proportion=.3)\n",
    "    generation.reset()\n",
    "    \n",
    "    print(str(i + 1) + ', minimum: ' + str(res.min()) + ' '*10, end='\\r')\n",
    "    \n",
    "    if res.min() > threshold:\n",
    "        std /= 2\n",
    "        threshold += 20\n",
    "        \n",
    "    if res.min() > 195:\n",
    "        count += 1\n",
    "    else:\n",
    "        count = 0\n",
    "    \n",
    "    if count == 10:\n",
    "        break"
   ]
  },
  {
   "cell_type": "markdown",
   "metadata": {},
   "source": [
    "Definitely better... But some tweaking is needed. Let's check that the agents are well-trained:"
   ]
  },
  {
   "cell_type": "code",
   "execution_count": 94,
   "metadata": {
    "ExecuteTime": {
     "end_time": "2017-12-10T21:04:51.810537Z",
     "start_time": "2017-12-10T21:04:44.563835Z"
    },
    "scrolled": true
   },
   "outputs": [
    {
     "name": "stdout",
     "output_type": "stream",
     "text": [
      "99: [ 200.  200.  200.  200.  200.  200.  200.  200.  200.  200.]                    \n",
      "[ 200.  200.  200.  200.  200.  200.  200.  200.  200.  200.]\n"
     ]
    }
   ],
   "source": [
    "l = np.ones(10) * 200\n",
    "agent = generation.agents[0]\n",
    "\n",
    "for i in range(100):\n",
    "    generation.reset()\n",
    "    res = generation.simulation_step(200)\n",
    "    print(str(i) + ': ' + str(res) + ' '*20, end='\\r')\n",
    "    l = np.minimum(l, res)\n",
    "\n",
    "print()\n",
    "print(l)"
   ]
  },
  {
   "cell_type": "markdown",
   "metadata": {},
   "source": [
    "Let's render the "
   ]
  },
  {
   "cell_type": "code",
   "execution_count": 26,
   "metadata": {
    "ExecuteTime": {
     "end_time": "2017-12-10T19:39:49.026508Z",
     "start_time": "2017-12-10T19:39:48.885217Z"
    }
   },
   "outputs": [
    {
     "ename": "NotImplementedError",
     "evalue": "abstract",
     "output_type": "error",
     "traceback": [
      "\u001b[0;31m---------------------------------------------------------------------------\u001b[0m",
      "\u001b[0;31mNotImplementedError\u001b[0m                       Traceback (most recent call last)",
      "\u001b[0;32m<ipython-input-26-804ab615b37a>\u001b[0m in \u001b[0;36m<module>\u001b[0;34m()\u001b[0m\n\u001b[1;32m      6\u001b[0m \u001b[0;34m\u001b[0m\u001b[0m\n\u001b[1;32m      7\u001b[0m     \u001b[0;32mfor\u001b[0m \u001b[0mt\u001b[0m \u001b[0;32min\u001b[0m \u001b[0mrange\u001b[0m\u001b[0;34m(\u001b[0m\u001b[0;36m1000\u001b[0m\u001b[0;34m)\u001b[0m\u001b[0;34m:\u001b[0m\u001b[0;34m\u001b[0m\u001b[0m\n\u001b[0;32m----> 8\u001b[0;31m         \u001b[0menv\u001b[0m\u001b[0;34m.\u001b[0m\u001b[0mrender\u001b[0m\u001b[0;34m(\u001b[0m\u001b[0;34m)\u001b[0m\u001b[0;34m\u001b[0m\u001b[0m\n\u001b[0m\u001b[1;32m      9\u001b[0m         \u001b[0maction\u001b[0m \u001b[0;34m=\u001b[0m \u001b[0magent\u001b[0m\u001b[0;34m.\u001b[0m\u001b[0maction\u001b[0m\u001b[0;34m(\u001b[0m\u001b[0mobservation\u001b[0m\u001b[0;34m)\u001b[0m\u001b[0;34m\u001b[0m\u001b[0m\n\u001b[1;32m     10\u001b[0m         \u001b[0mobservation\u001b[0m\u001b[0;34m,\u001b[0m \u001b[0mreward\u001b[0m\u001b[0;34m,\u001b[0m \u001b[0mdone\u001b[0m\u001b[0;34m,\u001b[0m \u001b[0minfo\u001b[0m \u001b[0;34m=\u001b[0m \u001b[0menv\u001b[0m\u001b[0;34m.\u001b[0m\u001b[0mstep\u001b[0m\u001b[0;34m(\u001b[0m\u001b[0maction\u001b[0m\u001b[0;34m)\u001b[0m\u001b[0;34m\u001b[0m\u001b[0m\n",
      "\u001b[0;32m/anaconda3/lib/python3.6/site-packages/gym/core.py\u001b[0m in \u001b[0;36mrender\u001b[0;34m(self, mode, close)\u001b[0m\n\u001b[1;32m    148\u001b[0m             \u001b[0;32melif\u001b[0m \u001b[0mmode\u001b[0m \u001b[0;32mnot\u001b[0m \u001b[0;32min\u001b[0m \u001b[0mmodes\u001b[0m\u001b[0;34m:\u001b[0m\u001b[0;34m\u001b[0m\u001b[0m\n\u001b[1;32m    149\u001b[0m                 \u001b[0;32mraise\u001b[0m \u001b[0merror\u001b[0m\u001b[0;34m.\u001b[0m\u001b[0mUnsupportedMode\u001b[0m\u001b[0;34m(\u001b[0m\u001b[0;34m'Unsupported rendering mode: {}. (Supported modes for {}: {})'\u001b[0m\u001b[0;34m.\u001b[0m\u001b[0mformat\u001b[0m\u001b[0;34m(\u001b[0m\u001b[0mmode\u001b[0m\u001b[0;34m,\u001b[0m \u001b[0mself\u001b[0m\u001b[0;34m,\u001b[0m \u001b[0mmodes\u001b[0m\u001b[0;34m)\u001b[0m\u001b[0;34m)\u001b[0m\u001b[0;34m\u001b[0m\u001b[0m\n\u001b[0;32m--> 150\u001b[0;31m         \u001b[0;32mreturn\u001b[0m \u001b[0mself\u001b[0m\u001b[0;34m.\u001b[0m\u001b[0m_render\u001b[0m\u001b[0;34m(\u001b[0m\u001b[0mmode\u001b[0m\u001b[0;34m=\u001b[0m\u001b[0mmode\u001b[0m\u001b[0;34m,\u001b[0m \u001b[0mclose\u001b[0m\u001b[0;34m=\u001b[0m\u001b[0mclose\u001b[0m\u001b[0;34m)\u001b[0m\u001b[0;34m\u001b[0m\u001b[0m\n\u001b[0m\u001b[1;32m    151\u001b[0m \u001b[0;34m\u001b[0m\u001b[0m\n\u001b[1;32m    152\u001b[0m     \u001b[0;32mdef\u001b[0m \u001b[0mclose\u001b[0m\u001b[0;34m(\u001b[0m\u001b[0mself\u001b[0m\u001b[0;34m)\u001b[0m\u001b[0;34m:\u001b[0m\u001b[0;34m\u001b[0m\u001b[0m\n",
      "\u001b[0;32m/anaconda3/lib/python3.6/site-packages/gym/core.py\u001b[0m in \u001b[0;36m_render\u001b[0;34m(self, mode, close)\u001b[0m\n\u001b[1;32m    284\u001b[0m \u001b[0;34m\u001b[0m\u001b[0m\n\u001b[1;32m    285\u001b[0m     \u001b[0;32mdef\u001b[0m \u001b[0m_render\u001b[0m\u001b[0;34m(\u001b[0m\u001b[0mself\u001b[0m\u001b[0;34m,\u001b[0m \u001b[0mmode\u001b[0m\u001b[0;34m=\u001b[0m\u001b[0;34m'human'\u001b[0m\u001b[0;34m,\u001b[0m \u001b[0mclose\u001b[0m\u001b[0;34m=\u001b[0m\u001b[0;32mFalse\u001b[0m\u001b[0;34m)\u001b[0m\u001b[0;34m:\u001b[0m\u001b[0;34m\u001b[0m\u001b[0m\n\u001b[0;32m--> 286\u001b[0;31m         \u001b[0;32mreturn\u001b[0m \u001b[0mself\u001b[0m\u001b[0;34m.\u001b[0m\u001b[0menv\u001b[0m\u001b[0;34m.\u001b[0m\u001b[0mrender\u001b[0m\u001b[0;34m(\u001b[0m\u001b[0mmode\u001b[0m\u001b[0;34m,\u001b[0m \u001b[0mclose\u001b[0m\u001b[0;34m)\u001b[0m\u001b[0;34m\u001b[0m\u001b[0m\n\u001b[0m\u001b[1;32m    287\u001b[0m \u001b[0;34m\u001b[0m\u001b[0m\n\u001b[1;32m    288\u001b[0m     \u001b[0;32mdef\u001b[0m \u001b[0m_close\u001b[0m\u001b[0;34m(\u001b[0m\u001b[0mself\u001b[0m\u001b[0;34m)\u001b[0m\u001b[0;34m:\u001b[0m\u001b[0;34m\u001b[0m\u001b[0m\n",
      "\u001b[0;32m/anaconda3/lib/python3.6/site-packages/gym/core.py\u001b[0m in \u001b[0;36mrender\u001b[0;34m(self, mode, close)\u001b[0m\n\u001b[1;32m    148\u001b[0m             \u001b[0;32melif\u001b[0m \u001b[0mmode\u001b[0m \u001b[0;32mnot\u001b[0m \u001b[0;32min\u001b[0m \u001b[0mmodes\u001b[0m\u001b[0;34m:\u001b[0m\u001b[0;34m\u001b[0m\u001b[0m\n\u001b[1;32m    149\u001b[0m                 \u001b[0;32mraise\u001b[0m \u001b[0merror\u001b[0m\u001b[0;34m.\u001b[0m\u001b[0mUnsupportedMode\u001b[0m\u001b[0;34m(\u001b[0m\u001b[0;34m'Unsupported rendering mode: {}. (Supported modes for {}: {})'\u001b[0m\u001b[0;34m.\u001b[0m\u001b[0mformat\u001b[0m\u001b[0;34m(\u001b[0m\u001b[0mmode\u001b[0m\u001b[0;34m,\u001b[0m \u001b[0mself\u001b[0m\u001b[0;34m,\u001b[0m \u001b[0mmodes\u001b[0m\u001b[0;34m)\u001b[0m\u001b[0;34m)\u001b[0m\u001b[0;34m\u001b[0m\u001b[0m\n\u001b[0;32m--> 150\u001b[0;31m         \u001b[0;32mreturn\u001b[0m \u001b[0mself\u001b[0m\u001b[0;34m.\u001b[0m\u001b[0m_render\u001b[0m\u001b[0;34m(\u001b[0m\u001b[0mmode\u001b[0m\u001b[0;34m=\u001b[0m\u001b[0mmode\u001b[0m\u001b[0;34m,\u001b[0m \u001b[0mclose\u001b[0m\u001b[0;34m=\u001b[0m\u001b[0mclose\u001b[0m\u001b[0;34m)\u001b[0m\u001b[0;34m\u001b[0m\u001b[0m\n\u001b[0m\u001b[1;32m    151\u001b[0m \u001b[0;34m\u001b[0m\u001b[0m\n\u001b[1;32m    152\u001b[0m     \u001b[0;32mdef\u001b[0m \u001b[0mclose\u001b[0m\u001b[0;34m(\u001b[0m\u001b[0mself\u001b[0m\u001b[0;34m)\u001b[0m\u001b[0;34m:\u001b[0m\u001b[0;34m\u001b[0m\u001b[0m\n",
      "\u001b[0;32m/anaconda3/lib/python3.6/site-packages/gym/envs/classic_control/cartpole.py\u001b[0m in \u001b[0;36m_render\u001b[0;34m(self, mode, close)\u001b[0m\n\u001b[1;32m    114\u001b[0m         \u001b[0;32mif\u001b[0m \u001b[0mself\u001b[0m\u001b[0;34m.\u001b[0m\u001b[0mviewer\u001b[0m \u001b[0;32mis\u001b[0m \u001b[0;32mNone\u001b[0m\u001b[0;34m:\u001b[0m\u001b[0;34m\u001b[0m\u001b[0m\n\u001b[1;32m    115\u001b[0m             \u001b[0;32mfrom\u001b[0m \u001b[0mgym\u001b[0m\u001b[0;34m.\u001b[0m\u001b[0menvs\u001b[0m\u001b[0;34m.\u001b[0m\u001b[0mclassic_control\u001b[0m \u001b[0;32mimport\u001b[0m \u001b[0mrendering\u001b[0m\u001b[0;34m\u001b[0m\u001b[0m\n\u001b[0;32m--> 116\u001b[0;31m             \u001b[0mself\u001b[0m\u001b[0;34m.\u001b[0m\u001b[0mviewer\u001b[0m \u001b[0;34m=\u001b[0m \u001b[0mrendering\u001b[0m\u001b[0;34m.\u001b[0m\u001b[0mViewer\u001b[0m\u001b[0;34m(\u001b[0m\u001b[0mscreen_width\u001b[0m\u001b[0;34m,\u001b[0m \u001b[0mscreen_height\u001b[0m\u001b[0;34m)\u001b[0m\u001b[0;34m\u001b[0m\u001b[0m\n\u001b[0m\u001b[1;32m    117\u001b[0m             \u001b[0ml\u001b[0m\u001b[0;34m,\u001b[0m\u001b[0mr\u001b[0m\u001b[0;34m,\u001b[0m\u001b[0mt\u001b[0m\u001b[0;34m,\u001b[0m\u001b[0mb\u001b[0m \u001b[0;34m=\u001b[0m \u001b[0;34m-\u001b[0m\u001b[0mcartwidth\u001b[0m\u001b[0;34m/\u001b[0m\u001b[0;36m2\u001b[0m\u001b[0;34m,\u001b[0m \u001b[0mcartwidth\u001b[0m\u001b[0;34m/\u001b[0m\u001b[0;36m2\u001b[0m\u001b[0;34m,\u001b[0m \u001b[0mcartheight\u001b[0m\u001b[0;34m/\u001b[0m\u001b[0;36m2\u001b[0m\u001b[0;34m,\u001b[0m \u001b[0;34m-\u001b[0m\u001b[0mcartheight\u001b[0m\u001b[0;34m/\u001b[0m\u001b[0;36m2\u001b[0m\u001b[0;34m\u001b[0m\u001b[0m\n\u001b[1;32m    118\u001b[0m             \u001b[0maxleoffset\u001b[0m \u001b[0;34m=\u001b[0m\u001b[0mcartheight\u001b[0m\u001b[0;34m/\u001b[0m\u001b[0;36m4.0\u001b[0m\u001b[0;34m\u001b[0m\u001b[0m\n",
      "\u001b[0;32m/anaconda3/lib/python3.6/site-packages/gym/envs/classic_control/rendering.py\u001b[0m in \u001b[0;36m__init__\u001b[0;34m(self, width, height, display)\u001b[0m\n\u001b[1;32m     49\u001b[0m         \u001b[0mself\u001b[0m\u001b[0;34m.\u001b[0m\u001b[0mwidth\u001b[0m \u001b[0;34m=\u001b[0m \u001b[0mwidth\u001b[0m\u001b[0;34m\u001b[0m\u001b[0m\n\u001b[1;32m     50\u001b[0m         \u001b[0mself\u001b[0m\u001b[0;34m.\u001b[0m\u001b[0mheight\u001b[0m \u001b[0;34m=\u001b[0m \u001b[0mheight\u001b[0m\u001b[0;34m\u001b[0m\u001b[0m\n\u001b[0;32m---> 51\u001b[0;31m         \u001b[0mself\u001b[0m\u001b[0;34m.\u001b[0m\u001b[0mwindow\u001b[0m \u001b[0;34m=\u001b[0m \u001b[0mpyglet\u001b[0m\u001b[0;34m.\u001b[0m\u001b[0mwindow\u001b[0m\u001b[0;34m.\u001b[0m\u001b[0mWindow\u001b[0m\u001b[0;34m(\u001b[0m\u001b[0mwidth\u001b[0m\u001b[0;34m=\u001b[0m\u001b[0mwidth\u001b[0m\u001b[0;34m,\u001b[0m \u001b[0mheight\u001b[0m\u001b[0;34m=\u001b[0m\u001b[0mheight\u001b[0m\u001b[0;34m,\u001b[0m \u001b[0mdisplay\u001b[0m\u001b[0;34m=\u001b[0m\u001b[0mdisplay\u001b[0m\u001b[0;34m)\u001b[0m\u001b[0;34m\u001b[0m\u001b[0m\n\u001b[0m\u001b[1;32m     52\u001b[0m         \u001b[0mself\u001b[0m\u001b[0;34m.\u001b[0m\u001b[0mwindow\u001b[0m\u001b[0;34m.\u001b[0m\u001b[0mon_close\u001b[0m \u001b[0;34m=\u001b[0m \u001b[0mself\u001b[0m\u001b[0;34m.\u001b[0m\u001b[0mwindow_closed_by_user\u001b[0m\u001b[0;34m\u001b[0m\u001b[0m\n\u001b[1;32m     53\u001b[0m         \u001b[0mself\u001b[0m\u001b[0;34m.\u001b[0m\u001b[0mgeoms\u001b[0m \u001b[0;34m=\u001b[0m \u001b[0;34m[\u001b[0m\u001b[0;34m]\u001b[0m\u001b[0;34m\u001b[0m\u001b[0m\n",
      "\u001b[0;32m/anaconda3/lib/python3.6/site-packages/pyglet/window/__init__.py\u001b[0m in \u001b[0;36m__init__\u001b[0;34m(self, width, height, caption, resizable, style, fullscreen, visible, vsync, display, screen, config, context, mode)\u001b[0m\n\u001b[1;32m    502\u001b[0m \u001b[0;34m\u001b[0m\u001b[0m\n\u001b[1;32m    503\u001b[0m         \u001b[0;32mif\u001b[0m \u001b[0;32mnot\u001b[0m \u001b[0mscreen\u001b[0m\u001b[0;34m:\u001b[0m\u001b[0;34m\u001b[0m\u001b[0m\n\u001b[0;32m--> 504\u001b[0;31m             \u001b[0mscreen\u001b[0m \u001b[0;34m=\u001b[0m \u001b[0mdisplay\u001b[0m\u001b[0;34m.\u001b[0m\u001b[0mget_default_screen\u001b[0m\u001b[0;34m(\u001b[0m\u001b[0;34m)\u001b[0m\u001b[0;34m\u001b[0m\u001b[0m\n\u001b[0m\u001b[1;32m    505\u001b[0m \u001b[0;34m\u001b[0m\u001b[0m\n\u001b[1;32m    506\u001b[0m         \u001b[0;32mif\u001b[0m \u001b[0;32mnot\u001b[0m \u001b[0mconfig\u001b[0m\u001b[0;34m:\u001b[0m\u001b[0;34m\u001b[0m\u001b[0m\n",
      "\u001b[0;32m/anaconda3/lib/python3.6/site-packages/pyglet/canvas/base.py\u001b[0m in \u001b[0;36mget_default_screen\u001b[0;34m(self)\u001b[0m\n\u001b[1;32m     71\u001b[0m         \u001b[0;34m:\u001b[0m\u001b[0mrtype\u001b[0m\u001b[0;34m:\u001b[0m \u001b[0;34m:\u001b[0m\u001b[0;32mclass\u001b[0m\u001b[0;34m:\u001b[0m\u001b[0;31m`\u001b[0m\u001b[0mScreen\u001b[0m\u001b[0;31m`\u001b[0m\u001b[0;34m\u001b[0m\u001b[0m\n\u001b[1;32m     72\u001b[0m         '''\n\u001b[0;32m---> 73\u001b[0;31m         \u001b[0;32mreturn\u001b[0m \u001b[0mself\u001b[0m\u001b[0;34m.\u001b[0m\u001b[0mget_screens\u001b[0m\u001b[0;34m(\u001b[0m\u001b[0;34m)\u001b[0m\u001b[0;34m[\u001b[0m\u001b[0;36m0\u001b[0m\u001b[0;34m]\u001b[0m\u001b[0;34m\u001b[0m\u001b[0m\n\u001b[0m\u001b[1;32m     74\u001b[0m \u001b[0;34m\u001b[0m\u001b[0m\n\u001b[1;32m     75\u001b[0m     \u001b[0;32mdef\u001b[0m \u001b[0mget_windows\u001b[0m\u001b[0;34m(\u001b[0m\u001b[0mself\u001b[0m\u001b[0;34m)\u001b[0m\u001b[0;34m:\u001b[0m\u001b[0;34m\u001b[0m\u001b[0m\n",
      "\u001b[0;32m/anaconda3/lib/python3.6/site-packages/pyglet/canvas/base.py\u001b[0m in \u001b[0;36mget_screens\u001b[0;34m(self)\u001b[0m\n\u001b[1;32m     63\u001b[0m         \u001b[0;34m:\u001b[0m\u001b[0mrtype\u001b[0m\u001b[0;34m:\u001b[0m \u001b[0mlist\u001b[0m \u001b[0mof\u001b[0m \u001b[0;34m:\u001b[0m\u001b[0;32mclass\u001b[0m\u001b[0;34m:\u001b[0m\u001b[0;31m`\u001b[0m\u001b[0mScreen\u001b[0m\u001b[0;31m`\u001b[0m\u001b[0;34m\u001b[0m\u001b[0m\n\u001b[1;32m     64\u001b[0m         '''\n\u001b[0;32m---> 65\u001b[0;31m         \u001b[0;32mraise\u001b[0m \u001b[0mNotImplementedError\u001b[0m\u001b[0;34m(\u001b[0m\u001b[0;34m'abstract'\u001b[0m\u001b[0;34m)\u001b[0m\u001b[0;34m\u001b[0m\u001b[0m\n\u001b[0m\u001b[1;32m     66\u001b[0m \u001b[0;34m\u001b[0m\u001b[0m\n\u001b[1;32m     67\u001b[0m     \u001b[0;32mdef\u001b[0m \u001b[0mget_default_screen\u001b[0m\u001b[0;34m(\u001b[0m\u001b[0mself\u001b[0m\u001b[0;34m)\u001b[0m\u001b[0;34m:\u001b[0m\u001b[0;34m\u001b[0m\u001b[0m\n",
      "\u001b[0;31mNotImplementedError\u001b[0m: abstract"
     ]
    }
   ],
   "source": [
    "# agent = generation.agents[0]\n",
    "agent = genetic.Agent()\n",
    "\n",
    "for i_episode in range(10):\n",
    "    observation = env.reset()\n",
    "    \n",
    "    for t in range(1000):\n",
    "        env.render()\n",
    "        action = agent.action(observation)\n",
    "        observation, reward, done, info = env.step(action)\n",
    "        agent.add_reward(reward)\n",
    "        if done:\n",
    "            print(\"Episode finished after {} timesteps\".format(t+1))\n",
    "            break"
   ]
  },
  {
   "cell_type": "markdown",
   "metadata": {},
   "source": [
    "# A k-NN algorithm"
   ]
  },
  {
   "cell_type": "code",
   "execution_count": 10,
   "metadata": {
    "ExecuteTime": {
     "end_time": "2017-12-11T00:22:11.500537Z",
     "start_time": "2017-12-11T00:22:11.105694Z"
    }
   },
   "outputs": [],
   "source": [
    "import knn"
   ]
  },
  {
   "cell_type": "code",
   "execution_count": 160,
   "metadata": {
    "ExecuteTime": {
     "end_time": "2017-12-11T00:58:46.193659Z",
     "start_time": "2017-12-11T00:58:46.112978Z"
    }
   },
   "outputs": [],
   "source": [
    "agent = knn.Agent(k=5)"
   ]
  },
  {
   "cell_type": "code",
   "execution_count": 161,
   "metadata": {
    "ExecuteTime": {
     "end_time": "2017-12-11T01:00:16.717533Z",
     "start_time": "2017-12-11T00:58:46.553670Z"
    }
   },
   "outputs": [
    {
     "name": "stdout",
     "output_type": "stream",
     "text": [
      "1000-th episode finished after 16 timesteps                    \r"
     ]
    }
   ],
   "source": [
    "for i in range(1000):\n",
    "    observation = env.reset()\n",
    "    \n",
    "    for t in range(200):\n",
    "        action = agent.action(observation)\n",
    "        observation, reward, done, info = env.step(action)\n",
    "        agent.add_reward(reward)\n",
    "        if done:\n",
    "            print(str(i+1) + '-th episode finished after {t} timesteps'.format(t=t+1) + ' '*20, end='\\r')\n",
    "            agent.reset()\n",
    "            break"
   ]
  },
  {
   "cell_type": "code",
   "execution_count": 162,
   "metadata": {
    "ExecuteTime": {
     "end_time": "2017-12-11T01:00:22.950731Z",
     "start_time": "2017-12-11T01:00:22.836853Z"
    }
   },
   "outputs": [
    {
     "data": {
      "text/html": [
       "<div>\n",
       "<style scoped>\n",
       "    .dataframe tbody tr th:only-of-type {\n",
       "        vertical-align: middle;\n",
       "    }\n",
       "\n",
       "    .dataframe tbody tr th {\n",
       "        vertical-align: top;\n",
       "    }\n",
       "\n",
       "    .dataframe thead th {\n",
       "        text-align: right;\n",
       "    }\n",
       "</style>\n",
       "<table border=\"1\" class=\"dataframe\">\n",
       "  <thead>\n",
       "    <tr style=\"text-align: right;\">\n",
       "      <th></th>\n",
       "      <th>a</th>\n",
       "      <th>b</th>\n",
       "      <th>c</th>\n",
       "      <th>d</th>\n",
       "    </tr>\n",
       "  </thead>\n",
       "  <tbody>\n",
       "    <tr>\n",
       "      <th>0</th>\n",
       "      <td>-0.014439</td>\n",
       "      <td>-0.179717</td>\n",
       "      <td>0.028559</td>\n",
       "      <td>0.282830</td>\n",
       "    </tr>\n",
       "    <tr>\n",
       "      <th>1</th>\n",
       "      <td>-0.040307</td>\n",
       "      <td>-0.767653</td>\n",
       "      <td>0.070588</td>\n",
       "      <td>1.219596</td>\n",
       "    </tr>\n",
       "    <tr>\n",
       "      <th>2</th>\n",
       "      <td>-0.055660</td>\n",
       "      <td>-0.573508</td>\n",
       "      <td>0.094980</td>\n",
       "      <td>0.949840</td>\n",
       "    </tr>\n",
       "    <tr>\n",
       "      <th>3</th>\n",
       "      <td>-0.086252</td>\n",
       "      <td>-0.772861</td>\n",
       "      <td>0.148041</td>\n",
       "      <td>1.344638</td>\n",
       "    </tr>\n",
       "    <tr>\n",
       "      <th>4</th>\n",
       "      <td>-0.113307</td>\n",
       "      <td>-0.776816</td>\n",
       "      <td>0.196967</td>\n",
       "      <td>1.443761</td>\n",
       "    </tr>\n",
       "    <tr>\n",
       "      <th>5</th>\n",
       "      <td>-0.013963</td>\n",
       "      <td>-0.177768</td>\n",
       "      <td>-0.019249</td>\n",
       "      <td>0.301402</td>\n",
       "    </tr>\n",
       "    <tr>\n",
       "      <th>6</th>\n",
       "      <td>-0.017166</td>\n",
       "      <td>-0.177307</td>\n",
       "      <td>-0.013167</td>\n",
       "      <td>0.291193</td>\n",
       "    </tr>\n",
       "    <tr>\n",
       "      <th>7</th>\n",
       "      <td>-0.020352</td>\n",
       "      <td>-0.177015</td>\n",
       "      <td>-0.007455</td>\n",
       "      <td>0.284744</td>\n",
       "    </tr>\n",
       "    <tr>\n",
       "      <th>8</th>\n",
       "      <td>-0.023528</td>\n",
       "      <td>-0.176884</td>\n",
       "      <td>-0.001966</td>\n",
       "      <td>0.281846</td>\n",
       "    </tr>\n",
       "    <tr>\n",
       "      <th>9</th>\n",
       "      <td>-0.049027</td>\n",
       "      <td>-0.762724</td>\n",
       "      <td>0.038046</td>\n",
       "      <td>1.170773</td>\n",
       "    </tr>\n",
       "    <tr>\n",
       "      <th>10</th>\n",
       "      <td>-0.075644</td>\n",
       "      <td>-0.764017</td>\n",
       "      <td>0.079267</td>\n",
       "      <td>1.201610</td>\n",
       "    </tr>\n",
       "    <tr>\n",
       "      <th>11</th>\n",
       "      <td>-0.102324</td>\n",
       "      <td>-0.766356</td>\n",
       "      <td>0.121995</td>\n",
       "      <td>1.258059</td>\n",
       "    </tr>\n",
       "    <tr>\n",
       "      <th>12</th>\n",
       "      <td>-0.117651</td>\n",
       "      <td>-0.572988</td>\n",
       "      <td>0.147156</td>\n",
       "      <td>1.005940</td>\n",
       "    </tr>\n",
       "    <tr>\n",
       "      <th>13</th>\n",
       "      <td>-0.129111</td>\n",
       "      <td>-0.380105</td>\n",
       "      <td>0.167275</td>\n",
       "      <td>0.762850</td>\n",
       "    </tr>\n",
       "    <tr>\n",
       "      <th>14</th>\n",
       "      <td>-0.136713</td>\n",
       "      <td>-0.187633</td>\n",
       "      <td>0.182532</td>\n",
       "      <td>0.527122</td>\n",
       "    </tr>\n",
       "    <tr>\n",
       "      <th>15</th>\n",
       "      <td>-0.140466</td>\n",
       "      <td>0.004514</td>\n",
       "      <td>0.193074</td>\n",
       "      <td>0.297056</td>\n",
       "    </tr>\n",
       "    <tr>\n",
       "      <th>16</th>\n",
       "      <td>-0.140375</td>\n",
       "      <td>0.196435</td>\n",
       "      <td>0.199015</td>\n",
       "      <td>0.070935</td>\n",
       "    </tr>\n",
       "    <tr>\n",
       "      <th>17</th>\n",
       "      <td>0.049268</td>\n",
       "      <td>-0.195783</td>\n",
       "      <td>-0.010481</td>\n",
       "      <td>0.303992</td>\n",
       "    </tr>\n",
       "    <tr>\n",
       "      <th>18</th>\n",
       "      <td>0.045342</td>\n",
       "      <td>-0.195572</td>\n",
       "      <td>-0.004241</td>\n",
       "      <td>0.299313</td>\n",
       "    </tr>\n",
       "    <tr>\n",
       "      <th>19</th>\n",
       "      <td>0.041423</td>\n",
       "      <td>-0.195537</td>\n",
       "      <td>0.001851</td>\n",
       "      <td>0.298529</td>\n",
       "    </tr>\n",
       "    <tr>\n",
       "      <th>20</th>\n",
       "      <td>0.037503</td>\n",
       "      <td>-0.195674</td>\n",
       "      <td>0.007951</td>\n",
       "      <td>0.301571</td>\n",
       "    </tr>\n",
       "    <tr>\n",
       "      <th>21</th>\n",
       "      <td>0.033577</td>\n",
       "      <td>-0.195986</td>\n",
       "      <td>0.014210</td>\n",
       "      <td>0.308467</td>\n",
       "    </tr>\n",
       "    <tr>\n",
       "      <th>22</th>\n",
       "      <td>0.029635</td>\n",
       "      <td>-0.196478</td>\n",
       "      <td>0.020786</td>\n",
       "      <td>0.319342</td>\n",
       "    </tr>\n",
       "    <tr>\n",
       "      <th>23</th>\n",
       "      <td>0.025673</td>\n",
       "      <td>-0.197159</td>\n",
       "      <td>0.027838</td>\n",
       "      <td>0.334417</td>\n",
       "    </tr>\n",
       "    <tr>\n",
       "      <th>24</th>\n",
       "      <td>0.021681</td>\n",
       "      <td>-0.198043</td>\n",
       "      <td>0.035539</td>\n",
       "      <td>0.354014</td>\n",
       "    </tr>\n",
       "    <tr>\n",
       "      <th>25</th>\n",
       "      <td>-0.006043</td>\n",
       "      <td>-0.786602</td>\n",
       "      <td>0.085208</td>\n",
       "      <td>1.305766</td>\n",
       "    </tr>\n",
       "    <tr>\n",
       "      <th>26</th>\n",
       "      <td>-0.033628</td>\n",
       "      <td>-0.789068</td>\n",
       "      <td>0.132142</td>\n",
       "      <td>1.366379</td>\n",
       "    </tr>\n",
       "    <tr>\n",
       "      <th>27</th>\n",
       "      <td>0.024938</td>\n",
       "      <td>-0.241930</td>\n",
       "      <td>0.005238</td>\n",
       "      <td>0.342836</td>\n",
       "    </tr>\n",
       "    <tr>\n",
       "      <th>28</th>\n",
       "      <td>-0.007089</td>\n",
       "      <td>-0.828429</td>\n",
       "      <td>0.051879</td>\n",
       "      <td>1.246888</td>\n",
       "    </tr>\n",
       "    <tr>\n",
       "      <th>29</th>\n",
       "      <td>-0.023658</td>\n",
       "      <td>-0.634009</td>\n",
       "      <td>0.076817</td>\n",
       "      <td>0.970897</td>\n",
       "    </tr>\n",
       "    <tr>\n",
       "      <th>...</th>\n",
       "      <td>...</td>\n",
       "      <td>...</td>\n",
       "      <td>...</td>\n",
       "      <td>...</td>\n",
       "    </tr>\n",
       "    <tr>\n",
       "      <th>27802</th>\n",
       "      <td>0.043749</td>\n",
       "      <td>0.206448</td>\n",
       "      <td>0.046187</td>\n",
       "      <td>-0.236622</td>\n",
       "    </tr>\n",
       "    <tr>\n",
       "      <th>27803</th>\n",
       "      <td>0.055895</td>\n",
       "      <td>0.205200</td>\n",
       "      <td>0.031166</td>\n",
       "      <td>-0.208933</td>\n",
       "    </tr>\n",
       "    <tr>\n",
       "      <th>27804</th>\n",
       "      <td>0.059999</td>\n",
       "      <td>0.399863</td>\n",
       "      <td>0.026988</td>\n",
       "      <td>-0.491624</td>\n",
       "    </tr>\n",
       "    <tr>\n",
       "      <th>27805</th>\n",
       "      <td>0.067996</td>\n",
       "      <td>0.594594</td>\n",
       "      <td>0.017155</td>\n",
       "      <td>-0.775681</td>\n",
       "    </tr>\n",
       "    <tr>\n",
       "      <th>27806</th>\n",
       "      <td>0.107565</td>\n",
       "      <td>0.399486</td>\n",
       "      <td>-0.035011</td>\n",
       "      <td>-0.483273</td>\n",
       "    </tr>\n",
       "    <tr>\n",
       "      <th>27807</th>\n",
       "      <td>0.127456</td>\n",
       "      <td>0.400603</td>\n",
       "      <td>-0.060412</td>\n",
       "      <td>-0.508482</td>\n",
       "    </tr>\n",
       "    <tr>\n",
       "      <th>27808</th>\n",
       "      <td>0.135468</td>\n",
       "      <td>0.596522</td>\n",
       "      <td>-0.070582</td>\n",
       "      <td>-0.819575</td>\n",
       "    </tr>\n",
       "    <tr>\n",
       "      <th>27809</th>\n",
       "      <td>0.184477</td>\n",
       "      <td>-0.366317</td>\n",
       "      <td>-0.146384</td>\n",
       "      <td>0.368079</td>\n",
       "    </tr>\n",
       "    <tr>\n",
       "      <th>27810</th>\n",
       "      <td>0.166515</td>\n",
       "      <td>-0.555239</td>\n",
       "      <td>-0.132785</td>\n",
       "      <td>0.524890</td>\n",
       "    </tr>\n",
       "    <tr>\n",
       "      <th>27811</th>\n",
       "      <td>0.148240</td>\n",
       "      <td>-0.551703</td>\n",
       "      <td>-0.118417</td>\n",
       "      <td>0.445233</td>\n",
       "    </tr>\n",
       "    <tr>\n",
       "      <th>27812</th>\n",
       "      <td>0.137206</td>\n",
       "      <td>-0.355122</td>\n",
       "      <td>-0.109512</td>\n",
       "      <td>0.117693</td>\n",
       "    </tr>\n",
       "    <tr>\n",
       "      <th>27813</th>\n",
       "      <td>0.130104</td>\n",
       "      <td>-0.158615</td>\n",
       "      <td>-0.107159</td>\n",
       "      <td>-0.207434</td>\n",
       "    </tr>\n",
       "    <tr>\n",
       "      <th>27814</th>\n",
       "      <td>0.126931</td>\n",
       "      <td>0.037863</td>\n",
       "      <td>-0.111307</td>\n",
       "      <td>-0.531905</td>\n",
       "    </tr>\n",
       "    <tr>\n",
       "      <th>27815</th>\n",
       "      <td>0.130161</td>\n",
       "      <td>-0.344525</td>\n",
       "      <td>-0.158398</td>\n",
       "      <td>-0.118212</td>\n",
       "    </tr>\n",
       "    <tr>\n",
       "      <th>27816</th>\n",
       "      <td>0.120320</td>\n",
       "      <td>-0.340057</td>\n",
       "      <td>-0.169890</td>\n",
       "      <td>-0.218373</td>\n",
       "    </tr>\n",
       "    <tr>\n",
       "      <th>27817</th>\n",
       "      <td>0.079022</td>\n",
       "      <td>-0.911151</td>\n",
       "      <td>-0.191339</td>\n",
       "      <td>0.354892</td>\n",
       "    </tr>\n",
       "    <tr>\n",
       "      <th>27818</th>\n",
       "      <td>0.060799</td>\n",
       "      <td>-0.713897</td>\n",
       "      <td>-0.184242</td>\n",
       "      <td>0.008499</td>\n",
       "    </tr>\n",
       "    <tr>\n",
       "      <th>27819</th>\n",
       "      <td>0.036187</td>\n",
       "      <td>-0.708767</td>\n",
       "      <td>-0.190795</td>\n",
       "      <td>-0.106730</td>\n",
       "    </tr>\n",
       "    <tr>\n",
       "      <th>27820</th>\n",
       "      <td>0.011782</td>\n",
       "      <td>-0.703441</td>\n",
       "      <td>-0.201990</td>\n",
       "      <td>-0.226815</td>\n",
       "    </tr>\n",
       "    <tr>\n",
       "      <th>27821</th>\n",
       "      <td>-0.002287</td>\n",
       "      <td>-0.506092</td>\n",
       "      <td>-0.206527</td>\n",
       "      <td>-0.575803</td>\n",
       "    </tr>\n",
       "    <tr>\n",
       "      <th>27822</th>\n",
       "      <td>-0.000247</td>\n",
       "      <td>-0.035116</td>\n",
       "      <td>0.014324</td>\n",
       "      <td>0.006701</td>\n",
       "    </tr>\n",
       "    <tr>\n",
       "      <th>27823</th>\n",
       "      <td>-0.000949</td>\n",
       "      <td>0.159797</td>\n",
       "      <td>0.014458</td>\n",
       "      <td>-0.281429</td>\n",
       "    </tr>\n",
       "    <tr>\n",
       "      <th>27824</th>\n",
       "      <td>0.002247</td>\n",
       "      <td>0.354710</td>\n",
       "      <td>0.008830</td>\n",
       "      <td>-0.569517</td>\n",
       "    </tr>\n",
       "    <tr>\n",
       "      <th>27825</th>\n",
       "      <td>0.020335</td>\n",
       "      <td>0.354620</td>\n",
       "      <td>-0.019749</td>\n",
       "      <td>-0.567528</td>\n",
       "    </tr>\n",
       "    <tr>\n",
       "      <th>27826</th>\n",
       "      <td>0.048753</td>\n",
       "      <td>-0.033299</td>\n",
       "      <td>-0.066231</td>\n",
       "      <td>-0.033439</td>\n",
       "    </tr>\n",
       "    <tr>\n",
       "      <th>27827</th>\n",
       "      <td>0.048087</td>\n",
       "      <td>0.162707</td>\n",
       "      <td>-0.066899</td>\n",
       "      <td>-0.346261</td>\n",
       "    </tr>\n",
       "    <tr>\n",
       "      <th>27828</th>\n",
       "      <td>0.051341</td>\n",
       "      <td>0.358713</td>\n",
       "      <td>-0.073825</td>\n",
       "      <td>-0.659267</td>\n",
       "    </tr>\n",
       "    <tr>\n",
       "      <th>27829</th>\n",
       "      <td>0.058515</td>\n",
       "      <td>0.554781</td>\n",
       "      <td>-0.087010</td>\n",
       "      <td>-0.974252</td>\n",
       "    </tr>\n",
       "    <tr>\n",
       "      <th>27830</th>\n",
       "      <td>0.069611</td>\n",
       "      <td>0.750956</td>\n",
       "      <td>-0.106495</td>\n",
       "      <td>-1.292949</td>\n",
       "    </tr>\n",
       "    <tr>\n",
       "      <th>27831</th>\n",
       "      <td>0.084630</td>\n",
       "      <td>0.947258</td>\n",
       "      <td>-0.132354</td>\n",
       "      <td>-1.616985</td>\n",
       "    </tr>\n",
       "  </tbody>\n",
       "</table>\n",
       "<p>27832 rows × 4 columns</p>\n",
       "</div>"
      ],
      "text/plain": [
       "              a         b         c         d\n",
       "0     -0.014439 -0.179717  0.028559  0.282830\n",
       "1     -0.040307 -0.767653  0.070588  1.219596\n",
       "2     -0.055660 -0.573508  0.094980  0.949840\n",
       "3     -0.086252 -0.772861  0.148041  1.344638\n",
       "4     -0.113307 -0.776816  0.196967  1.443761\n",
       "5     -0.013963 -0.177768 -0.019249  0.301402\n",
       "6     -0.017166 -0.177307 -0.013167  0.291193\n",
       "7     -0.020352 -0.177015 -0.007455  0.284744\n",
       "8     -0.023528 -0.176884 -0.001966  0.281846\n",
       "9     -0.049027 -0.762724  0.038046  1.170773\n",
       "10    -0.075644 -0.764017  0.079267  1.201610\n",
       "11    -0.102324 -0.766356  0.121995  1.258059\n",
       "12    -0.117651 -0.572988  0.147156  1.005940\n",
       "13    -0.129111 -0.380105  0.167275  0.762850\n",
       "14    -0.136713 -0.187633  0.182532  0.527122\n",
       "15    -0.140466  0.004514  0.193074  0.297056\n",
       "16    -0.140375  0.196435  0.199015  0.070935\n",
       "17     0.049268 -0.195783 -0.010481  0.303992\n",
       "18     0.045342 -0.195572 -0.004241  0.299313\n",
       "19     0.041423 -0.195537  0.001851  0.298529\n",
       "20     0.037503 -0.195674  0.007951  0.301571\n",
       "21     0.033577 -0.195986  0.014210  0.308467\n",
       "22     0.029635 -0.196478  0.020786  0.319342\n",
       "23     0.025673 -0.197159  0.027838  0.334417\n",
       "24     0.021681 -0.198043  0.035539  0.354014\n",
       "25    -0.006043 -0.786602  0.085208  1.305766\n",
       "26    -0.033628 -0.789068  0.132142  1.366379\n",
       "27     0.024938 -0.241930  0.005238  0.342836\n",
       "28    -0.007089 -0.828429  0.051879  1.246888\n",
       "29    -0.023658 -0.634009  0.076817  0.970897\n",
       "...         ...       ...       ...       ...\n",
       "27802  0.043749  0.206448  0.046187 -0.236622\n",
       "27803  0.055895  0.205200  0.031166 -0.208933\n",
       "27804  0.059999  0.399863  0.026988 -0.491624\n",
       "27805  0.067996  0.594594  0.017155 -0.775681\n",
       "27806  0.107565  0.399486 -0.035011 -0.483273\n",
       "27807  0.127456  0.400603 -0.060412 -0.508482\n",
       "27808  0.135468  0.596522 -0.070582 -0.819575\n",
       "27809  0.184477 -0.366317 -0.146384  0.368079\n",
       "27810  0.166515 -0.555239 -0.132785  0.524890\n",
       "27811  0.148240 -0.551703 -0.118417  0.445233\n",
       "27812  0.137206 -0.355122 -0.109512  0.117693\n",
       "27813  0.130104 -0.158615 -0.107159 -0.207434\n",
       "27814  0.126931  0.037863 -0.111307 -0.531905\n",
       "27815  0.130161 -0.344525 -0.158398 -0.118212\n",
       "27816  0.120320 -0.340057 -0.169890 -0.218373\n",
       "27817  0.079022 -0.911151 -0.191339  0.354892\n",
       "27818  0.060799 -0.713897 -0.184242  0.008499\n",
       "27819  0.036187 -0.708767 -0.190795 -0.106730\n",
       "27820  0.011782 -0.703441 -0.201990 -0.226815\n",
       "27821 -0.002287 -0.506092 -0.206527 -0.575803\n",
       "27822 -0.000247 -0.035116  0.014324  0.006701\n",
       "27823 -0.000949  0.159797  0.014458 -0.281429\n",
       "27824  0.002247  0.354710  0.008830 -0.569517\n",
       "27825  0.020335  0.354620 -0.019749 -0.567528\n",
       "27826  0.048753 -0.033299 -0.066231 -0.033439\n",
       "27827  0.048087  0.162707 -0.066899 -0.346261\n",
       "27828  0.051341  0.358713 -0.073825 -0.659267\n",
       "27829  0.058515  0.554781 -0.087010 -0.974252\n",
       "27830  0.069611  0.750956 -0.106495 -1.292949\n",
       "27831  0.084630  0.947258 -0.132354 -1.616985\n",
       "\n",
       "[27832 rows x 4 columns]"
      ]
     },
     "execution_count": 162,
     "metadata": {},
     "output_type": "execute_result"
    }
   ],
   "source": [
    "agent.neighborhood[1].X"
   ]
  },
  {
   "cell_type": "code",
   "execution_count": 101,
   "metadata": {
    "ExecuteTime": {
     "end_time": "2017-12-11T00:31:17.407800Z",
     "start_time": "2017-12-11T00:31:17.338486Z"
    }
   },
   "outputs": [],
   "source": [
    "X.loc[len(X)] = np.ones(4)"
   ]
  },
  {
   "cell_type": "code",
   "execution_count": 109,
   "metadata": {
    "ExecuteTime": {
     "end_time": "2017-12-11T00:35:27.551879Z",
     "start_time": "2017-12-11T00:35:27.476169Z"
    }
   },
   "outputs": [
    {
     "data": {
      "text/html": [
       "<div>\n",
       "<style scoped>\n",
       "    .dataframe tbody tr th:only-of-type {\n",
       "        vertical-align: middle;\n",
       "    }\n",
       "\n",
       "    .dataframe tbody tr th {\n",
       "        vertical-align: top;\n",
       "    }\n",
       "\n",
       "    .dataframe thead th {\n",
       "        text-align: right;\n",
       "    }\n",
       "</style>\n",
       "<table border=\"1\" class=\"dataframe\">\n",
       "  <thead>\n",
       "    <tr style=\"text-align: right;\">\n",
       "      <th></th>\n",
       "      <th>a</th>\n",
       "      <th>b</th>\n",
       "      <th>c</th>\n",
       "      <th>d</th>\n",
       "    </tr>\n",
       "  </thead>\n",
       "  <tbody>\n",
       "    <tr>\n",
       "      <th>0</th>\n",
       "      <td>1.0</td>\n",
       "      <td>1.0</td>\n",
       "      <td>1.0</td>\n",
       "      <td>1.0</td>\n",
       "    </tr>\n",
       "  </tbody>\n",
       "</table>\n",
       "</div>"
      ],
      "text/plain": [
       "     a    b    c    d\n",
       "0  1.0  1.0  1.0  1.0"
      ]
     },
     "execution_count": 109,
     "metadata": {},
     "output_type": "execute_result"
    }
   ],
   "source": [
    "X"
   ]
  },
  {
   "cell_type": "code",
   "execution_count": 105,
   "metadata": {
    "ExecuteTime": {
     "end_time": "2017-12-11T00:33:21.339790Z",
     "start_time": "2017-12-11T00:33:21.262214Z"
    }
   },
   "outputs": [
    {
     "data": {
      "text/plain": [
       "[]"
      ]
     },
     "execution_count": 105,
     "metadata": {},
     "output_type": "execute_result"
    }
   ],
   "source": [
    "agent.neighborhood[1].elements"
   ]
  },
  {
   "cell_type": "code",
   "execution_count": null,
   "metadata": {},
   "outputs": [],
   "source": []
  }
 ],
 "metadata": {
  "kernelspec": {
   "display_name": "Python [default]",
   "language": "python",
   "name": "python3"
  },
  "language_info": {
   "codemirror_mode": {
    "name": "ipython",
    "version": 3
   },
   "file_extension": ".py",
   "mimetype": "text/x-python",
   "name": "python",
   "nbconvert_exporter": "python",
   "pygments_lexer": "ipython3",
   "version": "3.6.3"
  },
  "toc": {
   "nav_menu": {
    "height": "148px",
    "width": "288px"
   },
   "number_sections": true,
   "sideBar": true,
   "skip_h1_title": false,
   "toc_cell": false,
   "toc_position": {},
   "toc_section_display": "block",
   "toc_window_display": false
  },
  "varInspector": {
   "cols": {
    "lenName": 16,
    "lenType": 16,
    "lenVar": 40
   },
   "kernels_config": {
    "python": {
     "delete_cmd_postfix": "",
     "delete_cmd_prefix": "del ",
     "library": "var_list.py",
     "varRefreshCmd": "print(var_dic_list())"
    },
    "r": {
     "delete_cmd_postfix": ") ",
     "delete_cmd_prefix": "rm(",
     "library": "var_list.r",
     "varRefreshCmd": "cat(var_dic_list()) "
    }
   },
   "types_to_exclude": [
    "module",
    "function",
    "builtin_function_or_method",
    "instance",
    "_Feature"
   ],
   "window_display": false
  }
 },
 "nbformat": 4,
 "nbformat_minor": 2
}
