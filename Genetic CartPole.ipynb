{
 "cells": [
  {
   "cell_type": "code",
   "execution_count": 62,
   "metadata": {},
   "outputs": [],
   "source": [
    "%reload_ext autoreload\n",
    "%autoreload 2"
   ]
  },
  {
   "cell_type": "code",
   "execution_count": 63,
   "metadata": {},
   "outputs": [],
   "source": [
    "import numpy as np\n",
    "import gym\n",
    "\n",
    "from genetic import Agent\n",
    "\n",
    "np.set_printoptions(precision=2)"
   ]
  },
  {
   "cell_type": "markdown",
   "metadata": {},
   "source": [
    "# A first, simple, example"
   ]
  },
  {
   "cell_type": "code",
   "execution_count": 9,
   "metadata": {},
   "outputs": [
    {
     "name": "stderr",
     "output_type": "stream",
     "text": [
      "[2017-11-20 22:46:10,474] Making new env: CartPole-v0\n"
     ]
    },
    {
     "name": "stdout",
     "output_type": "stream",
     "text": [
      "[-0.03 -0.04  0.02 -0.02]\n",
      "(0, 1.0)\n",
      "[-0.03 -0.23  0.02  0.28]\n",
      "(1, 1.0)\n",
      "[-0.03 -0.04  0.03 -0.01]\n",
      "(1, 1.0)\n",
      "[-0.03  0.16  0.03 -0.29]\n",
      "(0, 1.0)\n",
      "[-0.03 -0.04  0.02  0.01]\n",
      "(1, 1.0)\n",
      "[-0.03  0.16  0.02 -0.28]\n",
      "(1, 1.0)\n",
      "[-0.03  0.35  0.01 -0.57]\n",
      "(1, 1.0)\n",
      "[-0.02  0.55  0.   -0.85]\n",
      "(1, 1.0)\n",
      "[-0.01  0.74 -0.01 -1.15]\n",
      "(1, 1.0)\n",
      "[ 0.01  0.94 -0.04 -1.44]\n",
      "(1, 1.0)\n",
      "[ 0.02  1.13 -0.07 -1.75]\n",
      "(1, 1.0)\n",
      "[ 0.05  1.33 -0.1  -2.06]\n",
      "(0, 1.0)\n",
      "[ 0.07  1.13 -0.14 -1.8 ]\n",
      "(0, 1.0)\n",
      "[ 0.1   0.94 -0.18 -1.55]\n",
      "(1, 1.0)\n",
      "[ 0.11  1.14 -0.21 -1.9 ]\n",
      "(0, 1.0)\n",
      "Episode finished after 15 timesteps\n"
     ]
    }
   ],
   "source": [
    "env = gym.make('CartPole-v0')\n",
    "\n",
    "agent = Agent()\n",
    "\n",
    "for i_episode in range(1):\n",
    "    observation = env.reset()\n",
    "    for t in range(100):\n",
    "        #env.render()\n",
    "        print(observation)\n",
    "        action = env.action_space.sample()\n",
    "        observation, reward, done, info = env.step(action)\n",
    "        print((action, reward))\n",
    "        if done:\n",
    "            print(\"Episode finished after {} timesteps\".format(t+1))\n",
    "            break"
   ]
  },
  {
   "cell_type": "code",
   "execution_count": 71,
   "metadata": {},
   "outputs": [],
   "source": [
    "agent = Agent(.5, verbose=True)"
   ]
  },
  {
   "cell_type": "code",
   "execution_count": 72,
   "metadata": {},
   "outputs": [
    {
     "data": {
      "text/plain": [
       "array([[  1.32e-01,   7.36e-02,   2.52e-01,  -4.31e-03],\n",
       "       [ -8.12e-01,   4.49e-02,  -5.64e-01,  -3.54e-01],\n",
       "       [ -2.57e-04,   4.81e-01,   4.62e-01,  -1.24e-02],\n",
       "       [  1.42e-01,   2.77e-01,   1.80e-02,   5.03e-01]])"
      ]
     },
     "execution_count": 72,
     "metadata": {},
     "output_type": "execute_result"
    }
   ],
   "source": [
    "agent.weights1"
   ]
  },
  {
   "cell_type": "code",
   "execution_count": 73,
   "metadata": {},
   "outputs": [
    {
     "data": {
      "text/plain": [
       "array([ 0.1,  0.1,  0.1,  0.1])"
      ]
     },
     "execution_count": 73,
     "metadata": {},
     "output_type": "execute_result"
    }
   ],
   "source": [
    "agent.bias1"
   ]
  },
  {
   "cell_type": "code",
   "execution_count": 74,
   "metadata": {},
   "outputs": [
    {
     "data": {
      "text/plain": [
       "array([[-0.33, -0.53, -0.6 , -0.67],\n",
       "       [ 1.01,  0.53, -1.56, -0.59]])"
      ]
     },
     "execution_count": 74,
     "metadata": {},
     "output_type": "execute_result"
    }
   ],
   "source": [
    "agent.weights2"
   ]
  },
  {
   "cell_type": "code",
   "execution_count": 75,
   "metadata": {},
   "outputs": [
    {
     "data": {
      "text/plain": [
       "array([ 0.1,  0.1])"
      ]
     },
     "execution_count": 75,
     "metadata": {},
     "output_type": "execute_result"
    }
   ],
   "source": [
    "agent.bias2"
   ]
  },
  {
   "cell_type": "code",
   "execution_count": 76,
   "metadata": {},
   "outputs": [
    {
     "name": "stdout",
     "output_type": "stream",
     "text": [
      "[ 0.03  0.66  0.36 -0.57]\n",
      "[ 0.13  0.76  0.46 -0.47]\n",
      "[ 0.13  0.76  0.46  0.  ]\n",
      "[-0.72 -0.18]\n",
      "[-0.62 -0.08]\n"
     ]
    },
    {
     "data": {
      "text/plain": [
       "1"
      ]
     },
     "execution_count": 76,
     "metadata": {},
     "output_type": "execute_result"
    }
   ],
   "source": [
    "agent.action(observation)"
   ]
  },
  {
   "cell_type": "code",
   "execution_count": 77,
   "metadata": {},
   "outputs": [
    {
     "data": {
      "text/plain": [
       "<genetic.Agent at 0x1193ff080>"
      ]
     },
     "execution_count": 77,
     "metadata": {},
     "output_type": "execute_result"
    }
   ],
   "source": [
    "agent.copy()"
   ]
  },
  {
   "cell_type": "code",
   "execution_count": null,
   "metadata": {},
   "outputs": [],
   "source": []
  },
  {
   "cell_type": "code",
   "execution_count": null,
   "metadata": {},
   "outputs": [],
   "source": []
  }
 ],
 "metadata": {
  "kernelspec": {
   "display_name": "Python 3",
   "language": "python",
   "name": "python3"
  },
  "language_info": {
   "codemirror_mode": {
    "name": "ipython",
    "version": 3
   },
   "file_extension": ".py",
   "mimetype": "text/x-python",
   "name": "python",
   "nbconvert_exporter": "python",
   "pygments_lexer": "ipython3",
   "version": "3.6.3"
  },
  "varInspector": {
   "cols": {
    "lenName": 16,
    "lenType": 16,
    "lenVar": 40
   },
   "kernels_config": {
    "python": {
     "delete_cmd_postfix": "",
     "delete_cmd_prefix": "del ",
     "library": "var_list.py",
     "varRefreshCmd": "print(var_dic_list())"
    },
    "r": {
     "delete_cmd_postfix": ") ",
     "delete_cmd_prefix": "rm(",
     "library": "var_list.r",
     "varRefreshCmd": "cat(var_dic_list()) "
    }
   },
   "types_to_exclude": [
    "module",
    "function",
    "builtin_function_or_method",
    "instance",
    "_Feature"
   ],
   "window_display": false
  }
 },
 "nbformat": 4,
 "nbformat_minor": 2
}
