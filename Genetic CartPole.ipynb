{
 "cells": [
  {
   "cell_type": "code",
   "execution_count": 1,
   "metadata": {},
   "outputs": [],
   "source": [
    "%reload_ext autoreload\n",
    "%autoreload 2"
   ]
  },
  {
   "cell_type": "code",
   "execution_count": 2,
   "metadata": {},
   "outputs": [],
   "source": [
    "import numpy as np\n",
    "import gym\n",
    "\n",
    "from genetic import Agent, Generation\n",
    "\n",
    "import time\n",
    "\n",
    "np.set_printoptions(precision=2)"
   ]
  },
  {
   "cell_type": "markdown",
   "metadata": {},
   "source": [
    "# A first, simple, example"
   ]
  },
  {
   "cell_type": "code",
   "execution_count": 114,
   "metadata": {},
   "outputs": [
    {
     "name": "stderr",
     "output_type": "stream",
     "text": [
      "[2017-11-21 23:11:30,049] Making new env: CartPole-v0\n"
     ]
    },
    {
     "name": "stdout",
     "output_type": "stream",
     "text": [
      "Episode finished after 199 timesteps\n",
      "Episode finished after 200 timesteps\n",
      "Episode finished after 200 timesteps\n",
      "Episode finished after 162 timesteps\n",
      "Episode finished after 200 timesteps\n",
      "Episode finished after 200 timesteps\n",
      "Episode finished after 200 timesteps\n",
      "Episode finished after 152 timesteps\n",
      "Episode finished after 150 timesteps\n",
      "Episode finished after 200 timesteps\n"
     ]
    }
   ],
   "source": [
    "env = gym.make('CartPole-v0')\n",
    "\n",
    "for i_episode in range(10):\n",
    "    observation = env.reset()\n",
    "    \n",
    "    for t in range(1000):\n",
    "        env.render()\n",
    "        #print(observation)\n",
    "        action = agent.action(observation)\n",
    "        observation, reward, done, info = env.step(action)\n",
    "        # print((action, reward))\n",
    "        if done:\n",
    "            print(\"Episode finished after {} timesteps\".format(t+1))\n",
    "            break"
   ]
  },
  {
   "cell_type": "code",
   "execution_count": 50,
   "metadata": {},
   "outputs": [],
   "source": [
    "agent = Agent(.5, verbose=False)"
   ]
  },
  {
   "cell_type": "code",
   "execution_count": 72,
   "metadata": {},
   "outputs": [
    {
     "name": "stderr",
     "output_type": "stream",
     "text": [
      "[2017-11-21 23:08:40,319] Making new env: CartPole-v0\n"
     ]
    }
   ],
   "source": [
    "from genetic import Generation\n",
    "generation = Generation(10)"
   ]
  },
  {
   "cell_type": "code",
   "execution_count": 73,
   "metadata": {},
   "outputs": [],
   "source": [
    "generation.reset()"
   ]
  },
  {
   "cell_type": "code",
   "execution_count": 74,
   "metadata": {
    "scrolled": true
   },
   "outputs": [
    {
     "data": {
      "text/plain": [
       "[11.0, 9.0, 9.0, 9.0, 17.0, 9.0, 9.0, 9.0, 8.0, 10.0]"
      ]
     },
     "execution_count": 74,
     "metadata": {},
     "output_type": "execute_result"
    }
   ],
   "source": [
    "generation.simulation_step()"
   ]
  },
  {
   "cell_type": "code",
   "execution_count": 75,
   "metadata": {},
   "outputs": [],
   "source": [
    "generation.select()"
   ]
  },
  {
   "cell_type": "code",
   "execution_count": 111,
   "metadata": {},
   "outputs": [
    {
     "name": "stdout",
     "output_type": "stream",
     "text": [
      "[200.0, 137.0, 200.0, 107.0, 135.0, 136.0, 165.0, 154.0, 161.0, 200.0]\n",
      "[196.0, 61.0, 105.0, 133.0, 109.0, 70.0, 124.0, 116.0, 200.0, 200.0]\n",
      "[200.0, 200.0, 200.0, 172.0, 115.0, 196.0, 138.0, 175.0, 200.0, 200.0]\n"
     ]
    }
   ],
   "source": [
    "for i in range(3):\n",
    "    generation.reset()\n",
    "    print(generation.simulation_step(400))\n",
    "    generation.select()"
   ]
  },
  {
   "cell_type": "code",
   "execution_count": 112,
   "metadata": {},
   "outputs": [
    {
     "data": {
      "text/plain": [
       "200.0"
      ]
     },
     "execution_count": 112,
     "metadata": {},
     "output_type": "execute_result"
    }
   ],
   "source": [
    "agent = generation.agents[1]\n",
    "agent.reward"
   ]
  },
  {
   "cell_type": "code",
   "execution_count": 14,
   "metadata": {},
   "outputs": [],
   "source": [
    "generation.reset()"
   ]
  },
  {
   "cell_type": "code",
   "execution_count": 10,
   "metadata": {},
   "outputs": [],
   "source": [
    "for agent in generation.agents:\n",
    "    agent.reset()"
   ]
  },
  {
   "cell_type": "code",
   "execution_count": 27,
   "metadata": {},
   "outputs": [
    {
     "name": "stdout",
     "output_type": "stream",
     "text": [
      "403\n",
      "[10.0, 9.0, 9.0, 10.0, 10.0, 124.0, 90.0, 25.0, 9.0, 41.0]\n",
      "549\n",
      "[294.0, 33.0, 42.0, 9.0, 10.0, 294.0, 42.0, 294.0, 294.0, 294.0]\n",
      "394\n",
      "[44.0, 483.0, 483.0, 483.0, 483.0, 483.0, 483.0, 483.0, 483.0, 483.0]\n",
      "421\n",
      "[614.0, 614.0, 614.0, 614.0, 614.0, 614.0, 614.0, 614.0, 614.0, 614.0]\n",
      "62\n",
      "[548.0, 548.0, 548.0, 548.0, 548.0, 548.0, 548.0, 548.0, 548.0, 548.0]\n",
      "483\n",
      "[627.0, 627.0, 627.0, 627.0, 627.0, 627.0, 627.0, 627.0, 627.0, 627.0]\n",
      "567\n",
      "[501.0, 501.0, 501.0, 501.0, 501.0, 501.0, 501.0, 501.0, 501.0, 501.0]\n",
      "39\n",
      "[482.0, 482.0, 482.0, 482.0, 482.0, 482.0, 482.0, 482.0, 482.0, 482.0]\n",
      "37\n",
      "[401.0, 401.0, 401.0, 401.0, 401.0, 401.0, 401.0, 401.0, 401.0, 401.0]\n",
      "342\n",
      "[492.0, 492.0, 492.0, 492.0, 492.0, 492.0, 492.0, 492.0, 492.0, 492.0]\n",
      "116\n",
      "[550.0, 550.0, 550.0, 550.0, 550.0, 550.0, 550.0, 550.0, 550.0, 550.0]\n",
      "425\n",
      "[523.0, 523.0, 523.0, 523.0, 523.0, 523.0, 523.0, 523.0, 523.0, 523.0]\n",
      "453\n",
      "[503.0, 503.0, 503.0, 503.0, 503.0, 503.0, 503.0, 503.0, 503.0, 503.0]\n",
      "45\n",
      "[558.0, 558.0, 558.0, 558.0, 558.0, 558.0, 558.0, 558.0, 558.0, 558.0]\n",
      "36\n",
      "[479.0, 479.0, 479.0, 479.0, 479.0, 479.0, 479.0, 479.0, 479.0, 479.0]\n"
     ]
    }
   ],
   "source": [
    "generation.simulation(15)"
   ]
  },
  {
   "cell_type": "code",
   "execution_count": 5,
   "metadata": {},
   "outputs": [
    {
     "ename": "NameError",
     "evalue": "name 'generation' is not defined",
     "output_type": "error",
     "traceback": [
      "\u001b[0;31m---------------------------------------------------------------------------\u001b[0m",
      "\u001b[0;31mNameError\u001b[0m                                 Traceback (most recent call last)",
      "\u001b[0;32m<ipython-input-5-f7a79d956a65>\u001b[0m in \u001b[0;36m<module>\u001b[0;34m()\u001b[0m\n\u001b[0;32m----> 1\u001b[0;31m \u001b[0mrewards\u001b[0m \u001b[0;34m=\u001b[0m \u001b[0;34m[\u001b[0m\u001b[0magent\u001b[0m\u001b[0;34m.\u001b[0m\u001b[0mreward\u001b[0m \u001b[0;32mfor\u001b[0m \u001b[0magent\u001b[0m \u001b[0;32min\u001b[0m \u001b[0mgeneration\u001b[0m\u001b[0;34m.\u001b[0m\u001b[0magents\u001b[0m\u001b[0;34m]\u001b[0m\u001b[0;34m\u001b[0m\u001b[0m\n\u001b[0m",
      "\u001b[0;31mNameError\u001b[0m: name 'generation' is not defined"
     ]
    }
   ],
   "source": [
    "rewards = [agent.reward for agent in generation.agents]"
   ]
  },
  {
   "cell_type": "code",
   "execution_count": 118,
   "metadata": {},
   "outputs": [],
   "source": [
    "agent = generation.agents[0]"
   ]
  },
  {
   "cell_type": "code",
   "execution_count": null,
   "metadata": {},
   "outputs": [],
   "source": []
  }
 ],
 "metadata": {
  "kernelspec": {
   "display_name": "Python 3",
   "language": "python",
   "name": "python3"
  },
  "language_info": {
   "codemirror_mode": {
    "name": "ipython",
    "version": 3
   },
   "file_extension": ".py",
   "mimetype": "text/x-python",
   "name": "python",
   "nbconvert_exporter": "python",
   "pygments_lexer": "ipython3",
   "version": "3.6.3"
  },
  "varInspector": {
   "cols": {
    "lenName": 16,
    "lenType": 16,
    "lenVar": 40
   },
   "kernels_config": {
    "python": {
     "delete_cmd_postfix": "",
     "delete_cmd_prefix": "del ",
     "library": "var_list.py",
     "varRefreshCmd": "print(var_dic_list())"
    },
    "r": {
     "delete_cmd_postfix": ") ",
     "delete_cmd_prefix": "rm(",
     "library": "var_list.r",
     "varRefreshCmd": "cat(var_dic_list()) "
    }
   },
   "types_to_exclude": [
    "module",
    "function",
    "builtin_function_or_method",
    "instance",
    "_Feature"
   ],
   "window_display": false
  }
 },
 "nbformat": 4,
 "nbformat_minor": 2
}
