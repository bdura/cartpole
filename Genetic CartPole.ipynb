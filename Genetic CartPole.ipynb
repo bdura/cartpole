{
 "cells": [
  {
   "cell_type": "code",
   "execution_count": 1,
   "metadata": {},
   "outputs": [],
   "source": [
    "%reload_ext autoreload\n",
    "%autoreload 2"
   ]
  },
  {
   "cell_type": "code",
   "execution_count": 2,
   "metadata": {},
   "outputs": [],
   "source": [
    "import numpy as np\n",
    "\n",
    "import gym"
   ]
  },
  {
   "cell_type": "markdown",
   "metadata": {},
   "source": [
    "# A first, simple, example"
   ]
  },
  {
   "cell_type": "code",
   "execution_count": 5,
   "metadata": {},
   "outputs": [
    {
     "name": "stderr",
     "output_type": "stream",
     "text": [
      "[2017-11-20 20:03:24,017] Making new env: CartPole-v0\n"
     ]
    },
    {
     "name": "stdout",
     "output_type": "stream",
     "text": [
      "[ 0.02340566  0.0449172  -0.01606675  0.03493236]\n",
      "(0, 1.0)\n",
      "[ 0.024304   -0.14997071 -0.01536811  0.32250307]\n",
      "(1, 1.0)\n",
      "[ 0.02130459  0.04536667 -0.00891804  0.02501355]\n",
      "(1, 1.0)\n",
      "[ 0.02221192  0.24061537 -0.00841777 -0.27046973]\n",
      "(1, 1.0)\n",
      "[ 0.02702423  0.43585643 -0.01382717 -0.56579573]\n",
      "(0, 1.0)\n",
      "[ 0.03574136  0.24093116 -0.02514308 -0.27750084]\n",
      "(1, 1.0)\n",
      "[ 0.04055998  0.43640262 -0.0306931  -0.57800664]\n",
      "(0, 1.0)\n",
      "[ 0.04928803  0.24172399 -0.04225323 -0.29514859]\n",
      "(1, 1.0)\n",
      "[ 0.05412251  0.43742206 -0.0481562  -0.60085244]\n",
      "(0, 1.0)\n",
      "[ 0.06287095  0.24300568 -0.06017325 -0.3237184 ]\n",
      "(1, 1.0)\n",
      "[ 0.06773107  0.43893052 -0.06664762 -0.63475403]\n",
      "(1, 1.0)\n",
      "[ 0.07650968  0.63491569 -0.0793427  -0.94765901]\n",
      "(1, 1.0)\n",
      "[ 0.08920799  0.83101118 -0.09829588 -1.26417916]\n",
      "(0, 1.0)\n",
      "[ 0.10582821  0.63727339 -0.12357946 -1.00382775]\n",
      "(1, 1.0)\n",
      "[ 0.11857368  0.83380997 -0.14365602 -1.33262434]\n",
      "(0, 1.0)\n",
      "[ 0.13524988  0.6407615  -0.17030851 -1.08812421]\n",
      "(0, 1.0)\n",
      "[ 0.14806511  0.44824394 -0.19207099 -0.85335473]\n",
      "(1, 1.0)\n",
      "[ 0.15702999  0.64539194 -0.20913808 -1.19976101]\n",
      "(0, 1.0)\n",
      "Episode finished after 18 timesteps\n"
     ]
    }
   ],
   "source": [
    "env = gym.make('CartPole-v0')\n",
    "\n",
    "for i_episode in range(1):\n",
    "    observation = env.reset()\n",
    "    for t in range(100):\n",
    "        env.render()\n",
    "        print(observation)\n",
    "        action = env.action_space.sample()\n",
    "        observation, reward, done, info = env.step(action)\n",
    "        print((action, reward))\n",
    "        if done:\n",
    "            print(\"Episode finished after {} timesteps\".format(t+1))\n",
    "            break"
   ]
  },
  {
   "cell_type": "code",
   "execution_count": null,
   "metadata": {},
   "outputs": [],
   "source": []
  }
 ],
 "metadata": {
  "kernelspec": {
   "display_name": "Python 3",
   "language": "python",
   "name": "python3"
  },
  "language_info": {
   "codemirror_mode": {
    "name": "ipython",
    "version": 3
   },
   "file_extension": ".py",
   "mimetype": "text/x-python",
   "name": "python",
   "nbconvert_exporter": "python",
   "pygments_lexer": "ipython3",
   "version": "3.6.3"
  },
  "varInspector": {
   "cols": {
    "lenName": 16,
    "lenType": 16,
    "lenVar": 40
   },
   "kernels_config": {
    "python": {
     "delete_cmd_postfix": "",
     "delete_cmd_prefix": "del ",
     "library": "var_list.py",
     "varRefreshCmd": "print(var_dic_list())"
    },
    "r": {
     "delete_cmd_postfix": ") ",
     "delete_cmd_prefix": "rm(",
     "library": "var_list.r",
     "varRefreshCmd": "cat(var_dic_list()) "
    }
   },
   "types_to_exclude": [
    "module",
    "function",
    "builtin_function_or_method",
    "instance",
    "_Feature"
   ],
   "window_display": false
  }
 },
 "nbformat": 4,
 "nbformat_minor": 2
}
