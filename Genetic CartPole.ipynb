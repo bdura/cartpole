{
 "cells": [
  {
   "cell_type": "code",
   "execution_count": 562,
   "metadata": {
    "ExecuteTime": {
     "end_time": "2017-11-30T00:09:16.061168Z",
     "start_time": "2017-11-30T00:09:15.956662Z"
    }
   },
   "outputs": [],
   "source": [
    "%reload_ext autoreload\n",
    "%autoreload 2"
   ]
  },
  {
   "cell_type": "code",
   "execution_count": 563,
   "metadata": {
    "ExecuteTime": {
     "end_time": "2017-11-30T00:09:16.645927Z",
     "start_time": "2017-11-30T00:09:16.505553Z"
    }
   },
   "outputs": [],
   "source": [
    "import numpy as np\n",
    "import gym\n",
    "\n",
    "from genetic import Agent, Generation\n",
    "\n",
    "import time\n",
    "\n",
    "np.set_printoptions(precision=0)"
   ]
  },
  {
   "cell_type": "markdown",
   "metadata": {},
   "source": [
    "# A first, simple, example"
   ]
  },
  {
   "cell_type": "code",
   "execution_count": 564,
   "metadata": {
    "ExecuteTime": {
     "end_time": "2017-11-30T00:09:18.364422Z",
     "start_time": "2017-11-30T00:09:18.177980Z"
    }
   },
   "outputs": [
    {
     "name": "stderr",
     "output_type": "stream",
     "text": [
      "[2017-11-30 01:09:18,305] Making new env: CartPole-v0\n"
     ]
    },
    {
     "name": "stdout",
     "output_type": "stream",
     "text": [
      "Episode finished after 12 timesteps\n",
      "Episode finished after 11 timesteps\n",
      "Episode finished after 27 timesteps\n",
      "Episode finished after 17 timesteps\n",
      "Episode finished after 13 timesteps\n",
      "Episode finished after 17 timesteps\n",
      "Episode finished after 22 timesteps\n",
      "Episode finished after 13 timesteps\n",
      "Episode finished after 15 timesteps\n",
      "Episode finished after 23 timesteps\n"
     ]
    }
   ],
   "source": [
    "env = gym.make('CartPole-v0')\n",
    "\n",
    "for i_episode in range(10):\n",
    "    observation = env.reset()\n",
    "    \n",
    "    for t in range(1000):\n",
    "#         env.render()\n",
    "        #print(observation)\n",
    "        action = env.action_space.sample()\n",
    "        observation, reward, done, info = env.step(action)\n",
    "#         print((action, reward))\n",
    "        if done:\n",
    "            print(\"Episode finished after {} timesteps\".format(t+1))\n",
    "            break"
   ]
  },
  {
   "cell_type": "markdown",
   "metadata": {},
   "source": [
    "# Avec un agent piloté par un réseau de neurones"
   ]
  },
  {
   "cell_type": "code",
   "execution_count": 569,
   "metadata": {
    "ExecuteTime": {
     "end_time": "2017-11-30T00:10:45.320104Z",
     "start_time": "2017-11-30T00:10:45.216776Z"
    }
   },
   "outputs": [],
   "source": [
    "agent = Agent(.5, verbose=False)"
   ]
  },
  {
   "cell_type": "code",
   "execution_count": 570,
   "metadata": {
    "ExecuteTime": {
     "end_time": "2017-11-30T00:10:46.303083Z",
     "start_time": "2017-11-30T00:10:46.062607Z"
    }
   },
   "outputs": [
    {
     "name": "stderr",
     "output_type": "stream",
     "text": [
      "[2017-11-30 01:10:46,226] Making new env: CartPole-v0\n"
     ]
    },
    {
     "name": "stdout",
     "output_type": "stream",
     "text": [
      "Episode finished after 10 timesteps\n",
      "Episode finished after 10 timesteps\n",
      "Episode finished after 10 timesteps\n",
      "Episode finished after 9 timesteps\n",
      "Episode finished after 10 timesteps\n",
      "Episode finished after 9 timesteps\n",
      "Episode finished after 10 timesteps\n",
      "Episode finished after 10 timesteps\n",
      "Episode finished after 9 timesteps\n",
      "Episode finished after 9 timesteps\n"
     ]
    }
   ],
   "source": [
    "env = gym.make('CartPole-v0')\n",
    "\n",
    "for i_episode in range(10):\n",
    "    observation = env.reset()\n",
    "    \n",
    "    for t in range(1000):\n",
    "#         env.render()\n",
    "        #print(observation)\n",
    "        action = agent.action(observation)\n",
    "        observation, reward, done, info = env.step(action)\n",
    "#         print((action, reward))\n",
    "        if done:\n",
    "            print(\"Episode finished after {} timesteps\".format(t+1))\n",
    "            break"
   ]
  },
  {
   "cell_type": "markdown",
   "metadata": {},
   "source": [
    "# Algorithme génétique simple"
   ]
  },
  {
   "cell_type": "code",
   "execution_count": 576,
   "metadata": {
    "ExecuteTime": {
     "end_time": "2017-11-30T00:12:35.856090Z",
     "start_time": "2017-11-30T00:12:35.731749Z"
    }
   },
   "outputs": [
    {
     "name": "stderr",
     "output_type": "stream",
     "text": [
      "[2017-11-30 01:12:35,822] Making new env: CartPole-v0\n"
     ]
    }
   ],
   "source": [
    "generation = Generation(10)"
   ]
  },
  {
   "cell_type": "code",
   "execution_count": 577,
   "metadata": {
    "ExecuteTime": {
     "end_time": "2017-11-30T00:12:36.548043Z",
     "start_time": "2017-11-30T00:12:36.407675Z"
    }
   },
   "outputs": [
    {
     "data": {
      "text/plain": [
       "array([ 11.,  10.,  10.,   9.,  23.,  18.,  10.,  10.,  18.,  10.])"
      ]
     },
     "execution_count": 577,
     "metadata": {},
     "output_type": "execute_result"
    }
   ],
   "source": [
    "generation.reset()\n",
    "generation.simulation_step()"
   ]
  },
  {
   "cell_type": "markdown",
   "metadata": {},
   "source": [
    "Entraînement des agents :"
   ]
  },
  {
   "cell_type": "code",
   "execution_count": 578,
   "metadata": {
    "ExecuteTime": {
     "end_time": "2017-11-30T00:13:18.285817Z",
     "start_time": "2017-11-30T00:12:37.531277Z"
    }
   },
   "outputs": [
    {
     "name": "stdout",
     "output_type": "stream",
     "text": [
      "214: [ 200.  200.  200.  200.  200.  200.  200.  200.  200.]\r"
     ]
    }
   ],
   "source": [
    "for i in range(1000):\n",
    "    \n",
    "    generation.select(std=.1, proportion=.3)\n",
    "    generation.reset()\n",
    "    res = generation.simulation_step(300)\n",
    "    \n",
    "    print(str(i) + ': ' + str(np.sort(res)[-1:0:-1]), end='\\r')\n",
    "    \n",
    "    if res.min() > 190:\n",
    "        break"
   ]
  },
  {
   "cell_type": "code",
   "execution_count": 579,
   "metadata": {
    "ExecuteTime": {
     "end_time": "2017-11-30T00:14:00.845971Z",
     "start_time": "2017-11-30T00:13:31.227299Z"
    },
    "scrolled": true
   },
   "outputs": [
    {
     "name": "stdout",
     "output_type": "stream",
     "text": [
      "[ 200.  200.  200.  200.  200.  200.  200.  200.  200.  200.]\n",
      "[ 200.  200.  200.  200.  191.  200.  200.  200.  200.  200.]\n"
     ]
    }
   ],
   "source": [
    "l = np.zeros(10)\n",
    "agent = generation.agents[0]\n",
    "\n",
    "for _ in range(100):\n",
    "    generation.reset()\n",
    "    res = generation.simulation_step(200)\n",
    "    print(res, end='\\r')\n",
    "    l += res/100\n",
    "\n",
    "print()\n",
    "print(l)"
   ]
  }
 ],
 "metadata": {
  "kernelspec": {
   "display_name": "Python 3",
   "language": "python",
   "name": "python3"
  },
  "language_info": {
   "codemirror_mode": {
    "name": "ipython",
    "version": 3
   },
   "file_extension": ".py",
   "mimetype": "text/x-python",
   "name": "python",
   "nbconvert_exporter": "python",
   "pygments_lexer": "ipython3",
   "version": "3.6.3"
  },
  "toc": {
   "nav_menu": {},
   "number_sections": true,
   "sideBar": true,
   "skip_h1_title": false,
   "toc_cell": false,
   "toc_position": {},
   "toc_section_display": "block",
   "toc_window_display": false
  },
  "varInspector": {
   "cols": {
    "lenName": 16,
    "lenType": 16,
    "lenVar": 40
   },
   "kernels_config": {
    "python": {
     "delete_cmd_postfix": "",
     "delete_cmd_prefix": "del ",
     "library": "var_list.py",
     "varRefreshCmd": "print(var_dic_list())"
    },
    "r": {
     "delete_cmd_postfix": ") ",
     "delete_cmd_prefix": "rm(",
     "library": "var_list.r",
     "varRefreshCmd": "cat(var_dic_list()) "
    }
   },
   "types_to_exclude": [
    "module",
    "function",
    "builtin_function_or_method",
    "instance",
    "_Feature"
   ],
   "window_display": false
  }
 },
 "nbformat": 4,
 "nbformat_minor": 2
}
